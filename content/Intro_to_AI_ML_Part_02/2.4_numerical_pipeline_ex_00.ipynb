{
 "cells": [
  {
   "cell_type": "markdown",
   "id": "d7026ed1",
   "metadata": {},
   "source": [
    "# 📃 Task 2.0  \n",
    "\n",
    "The goal of this exercise is to fit a similar model as in the previous\n",
    "notebook to get familiar with manipulating scikit-learn objects and in\n",
    "particular the `.fit/.predict/.score` API.  \n",
    "\n",
    "Complete each ask by replacing the ellipsis (...) in each code cell with the correct code."
   ]
  },
  {
   "cell_type": "markdown",
   "id": "09ad270b",
   "metadata": {},
   "source": [
    "Let's load the adult census dataset with only numerical variables"
   ]
  },
  {
   "cell_type": "code",
   "execution_count": null,
   "id": "f6dcb54a-d691-4279-9fa2-1e1f8c9d0fd0",
   "metadata": {},
   "outputs": [],
   "source": [
    "import numpy as np\n",
    "import pandas as pd\n",
    "import sklearn"
   ]
  },
  {
   "cell_type": "code",
   "execution_count": null,
   "id": "c07fefb9",
   "metadata": {},
   "outputs": [],
   "source": [
    "adult_census = pd.read_csv(\"../datasets/adult-census-numeric.csv\")\n",
    "data = adult_census.drop(columns=\" ... \")\n",
    "target = ... [\"class\"]"
   ]
  },
  {
   "cell_type": "markdown",
   "id": "7fcb1913",
   "metadata": {},
   "source": [
    "In the previous notebook we used `model = KNeighborsClassifier()`. All\n",
    "scikit-learn models can be created without arguments. This is convenient\n",
    "because it means that you don't need to understand the full details of a model\n",
    "before starting to use it.\n",
    "\n",
    "One of the `KNeighborsClassifier` parameters is `n_neighbors`. It controls the\n",
    "number of neighbors we are going to use to make a prediction for a new data\n",
    "point.\n",
    "\n",
    "What is the default value of the `n_neighbors` parameter?\n",
    "\n",
    "**Hint**: Look at the documentation on the [scikit-learn\n",
    "website](https://scikit-learn.org/stable/modules/generated/sklearn.neighbors.KNeighborsClassifier.html)\n",
    "or directly access the description inside your notebook by running the\n",
    "following cell. This opens a pager pointing to the documentation."
   ]
  },
  {
   "cell_type": "code",
   "execution_count": null,
   "id": "973e03ca",
   "metadata": {},
   "outputs": [],
   "source": [
    "from sklearn.neighbors import KNeighborsClassifier\n",
    "\n",
    "KNeighborsClassifier?"
   ]
  },
  {
   "cell_type": "markdown",
   "id": "7021147e",
   "metadata": {
    "tags": [
     "solution"
    ]
   },
   "source": [
    "We can see that the default value for `n_neighbors` is 5."
   ]
  },
  {
   "cell_type": "markdown",
   "id": "2ebbdfd1",
   "metadata": {},
   "source": [
    "1. Create a `KNeighborsClassifier` model with `n_neighbors=50`"
   ]
  },
  {
   "cell_type": "code",
   "execution_count": null,
   "id": "8837b921",
   "metadata": {},
   "outputs": [],
   "source": [
    "# solution\n",
    "model = KNeighborsClassifier(... = ...)"
   ]
  },
  {
   "cell_type": "markdown",
   "id": "9dd85fc1",
   "metadata": {},
   "source": [
    "2. Fit this model on the data and target loaded above"
   ]
  },
  {
   "cell_type": "code",
   "execution_count": null,
   "id": "70f36f85",
   "metadata": {},
   "outputs": [],
   "source": [
    "# solution\n",
    "model. ... (data, ...)"
   ]
  },
  {
   "cell_type": "markdown",
   "id": "5eede740",
   "metadata": {},
   "source": [
    "3. Use your model to make predictions on the first 10 data points inside the\n",
    "data. Do they match the actual target values?"
   ]
  },
  {
   "cell_type": "code",
   "execution_count": null,
   "id": "e3556202",
   "metadata": {},
   "outputs": [],
   "source": [
    "# solution\n",
    "first_data_values = data.iloc[: ...]\n",
    "first_predictions = model. ... (first_data_values)\n",
    "first_predictions"
   ]
  },
  {
   "cell_type": "code",
   "execution_count": null,
   "id": "428915f2",
   "metadata": {
    "tags": [
     "solution"
    ]
   },
   "outputs": [],
   "source": [
    "first_target_values = target.iloc[: ...]\n",
    "first_target_values"
   ]
  },
  {
   "cell_type": "code",
   "execution_count": null,
   "id": "16798318",
   "metadata": {
    "tags": [
     "solution"
    ]
   },
   "outputs": [],
   "source": [
    "number_of_correct_predictions = (first_predictions == first_target_values).sum()\n",
    "number_of_predictions = len(first_predictions)\n",
    "print(f\"{number_of_correct_predictions}/{number_of_predictions} \"\"of predictions are correct\")"
   ]
  },
  {
   "cell_type": "markdown",
   "id": "ead1f1a7",
   "metadata": {},
   "source": [
    "4. Compute the accuracy on the training data."
   ]
  },
  {
   "cell_type": "code",
   "execution_count": null,
   "id": "9840c604",
   "metadata": {},
   "outputs": [],
   "source": [
    "# solution\n",
    "model. ... (data, target)"
   ]
  },
  {
   "cell_type": "markdown",
   "id": "cfeaf740",
   "metadata": {},
   "source": [
    "5.  Now load the test data from `\"../datasets/adult-census-numeric-test.csv\"` and\n",
    "compute the accuracy on the test data."
   ]
  },
  {
   "cell_type": "code",
   "execution_count": null,
   "id": "a6e27c4f",
   "metadata": {},
   "outputs": [],
   "source": [
    "# solution\n",
    "adult_census_test = pd.read_csv(\"../datasets/adult-census-numeric-test.csv\")\n",
    "\n",
    "data_test = adult_census_test.drop(columns=\"class\")\n",
    "target_test = adult_census_test[\"class\"]\n",
    "\n",
    "model.score(..., ...)"
   ]
  },
  {
   "cell_type": "markdown",
   "id": "3171b8be",
   "metadata": {
    "tags": [
     "solution"
    ]
   },
   "source": [
    "Looking at the previous notebook, the accuracy seems slightly higher with\n",
    "`n_neighbors=50` than with `n_neighbors=5` (the default value)."
   ]
  }
 ],
 "metadata": {
  "jupytext": {
   "main_language": "python"
  },
  "kernelspec": {
   "display_name": "Python [conda env:base] *",
   "language": "python",
   "name": "conda-base-py"
  },
  "language_info": {
   "codemirror_mode": {
    "name": "ipython",
    "version": 3
   },
   "file_extension": ".py",
   "mimetype": "text/x-python",
   "name": "python",
   "nbconvert_exporter": "python",
   "pygments_lexer": "ipython3",
   "version": "3.12.7"
  }
 },
 "nbformat": 4,
 "nbformat_minor": 5
}
