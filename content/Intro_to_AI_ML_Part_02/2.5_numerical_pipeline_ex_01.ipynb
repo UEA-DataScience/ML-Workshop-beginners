{
 "cells": [
  {
   "cell_type": "markdown",
   "id": "cb4bc11c",
   "metadata": {},
   "source": [
    "# 📃 Task 2.1  \n",
    "\n",
    "The goal of this exercise is to compare the performance of our classifier in\n",
    "the previous notebook (roughly 81% accuracy with `LogisticRegression`) to some\n",
    "simple baseline classifiers. The simplest baseline classifier is one that\n",
    "always predicts the same class, irrespective of the input data.\n",
    "\n",
    "- What would be the score of a model that always predicts `' >50K'`?\n",
    "- What would be the score of a model that always predicts `' <=50K'`?\n",
    "- Is 81% or 82% accuracy a good score for this problem?\n",
    "\n",
    "Use a `DummyClassifier` and do a train-test split to evaluate its accuracy on\n",
    "the test set. This\n",
    "[link](https://scikit-learn.org/stable/modules/model_evaluation.html#dummy-estimators)\n",
    "shows a few examples of how to evaluate the generalization performance of\n",
    "these baseline models.  \n",
    "\n",
    "Complete each ask by replacing the ellipsis (...) in each code cell with the correct code."
   ]
  },
  {
   "cell_type": "code",
   "execution_count": null,
   "id": "672ce72b-9fe8-4c3b-901e-796bd6b943cc",
   "metadata": {},
   "outputs": [],
   "source": [
    "import numpy as np\n",
    "import pandas as pd\n",
    "import sklearn"
   ]
  },
  {
   "cell_type": "code",
   "execution_count": null,
   "id": "818588a3",
   "metadata": {},
   "outputs": [],
   "source": [
    "adult_census = pd. ... (\"../datasets/adult-census.csv\")"
   ]
  },
  {
   "cell_type": "markdown",
   "id": "09d9ad2b",
   "metadata": {},
   "source": [
    "1. We first split our dataset to have the target separated from the data used to\n",
    "train our predictive model."
   ]
  },
  {
   "cell_type": "code",
   "execution_count": null,
   "id": "5e4f0eb9",
   "metadata": {},
   "outputs": [],
   "source": [
    "target_name = \"...\"\n",
    "target = ...[target_name]\n",
    "data = adult_census.drop(columns= ... )"
   ]
  },
  {
   "cell_type": "markdown",
   "id": "29aa7019",
   "metadata": {},
   "source": [
    "2. We start by selecting only the numerical columns as seen in the previous\n",
    "notebook."
   ]
  },
  {
   "cell_type": "code",
   "execution_count": null,
   "id": "39dd74fc",
   "metadata": {},
   "outputs": [],
   "source": [
    "numerical_columns = [\"...\", \"...\", \"...\", \"...\"]\n",
    "\n",
    "data_numeric = data[...]"
   ]
  },
  {
   "cell_type": "markdown",
   "id": "90c65c5e",
   "metadata": {},
   "source": [
    "3. Split the data and target into a train and test set."
   ]
  },
  {
   "cell_type": "code",
   "execution_count": null,
   "id": "6bc358d7",
   "metadata": {},
   "outputs": [],
   "source": [
    "from sklearn.model_selection import train_test_split\n",
    "\n",
    "# solution\n",
    "data_numeric_train, data_numeric_test, target_train, target_test = (\n",
    "    train_test_split(..., ..., random_state=42)\n",
    ")"
   ]
  },
  {
   "cell_type": "markdown",
   "id": "8615b879",
   "metadata": {},
   "source": [
    "4. Use a `DummyClassifier` such that the resulting classifier always predict the\n",
    "class `' >50K'`. What is the accuracy score on the test set? Repeat the\n",
    "experiment by always predicting the class `' <=50K'` *(note the space before the ' <=' and ' >' !).*\n",
    "\n",
    "Hint: you can set the `strategy` parameter of the `DummyClassifier` to achieve\n",
    "the desired behavior."
   ]
  },
  {
   "cell_type": "code",
   "execution_count": null,
   "id": "35b7b758",
   "metadata": {},
   "outputs": [],
   "source": [
    "from sklearn.dummy import DummyClassifier\n",
    "\n",
    "# solution\n",
    "class_to_predict = \" >50K\"\n",
    "high_revenue_clf = ...(strategy=\"constant\", constant=...)\n",
    "high_revenue_clf. ... (..., ...)\n",
    "score = high_revenue_clf.score(..., ...)\n",
    "print(f\"Accuracy of a model predicting only high revenue: {score:.3f}\")"
   ]
  },
  {
   "cell_type": "markdown",
   "id": "017a832d",
   "metadata": {
    "tags": [
     "solution"
    ]
   },
   "source": [
    "5. We clearly see that the score is below 0.5 which might be surprising at first.\n",
    "We now check the generalization performance of a model which always predict\n",
    "the low revenue class, i.e. `\" <=50K\"`."
   ]
  },
  {
   "cell_type": "code",
   "execution_count": null,
   "id": "e1c837b9",
   "metadata": {
    "tags": [
     "solution"
    ]
   },
   "outputs": [],
   "source": [
    "class_to_predict = \" <=50K\"\n",
    "low_revenue_clf = DummyClassifier(...=\"constant\", ...=class_to_predict)\n",
    "... .fit(data_numeric_train, target_train)\n",
    "score = low_revenue_clf. ... (data_numeric_test, target_test)\n",
    "print(f\"Accuracy of a model predicting only low revenue: {score:.3f}\")"
   ]
  },
  {
   "cell_type": "markdown",
   "id": "92f095f5",
   "metadata": {
    "tags": [
     "solution"
    ]
   },
   "source": [
    "We observe that this model has an accuracy higher than 0.5. This is due to the\n",
    "fact that we have 3/4 of the target belonging to low-revenue class."
   ]
  },
  {
   "cell_type": "markdown",
   "id": "c6de8d99",
   "metadata": {
    "tags": [
     "solution"
    ]
   },
   "source": [
    "Therefore, any predictive model giving results below this dummy classifier\n",
    "would not be helpful."
   ]
  },
  {
   "cell_type": "code",
   "execution_count": null,
   "id": "1ee67aef",
   "metadata": {
    "tags": [
     "solution"
    ]
   },
   "outputs": [],
   "source": [
    "adult_census[\"class\"].value_counts()"
   ]
  },
  {
   "cell_type": "code",
   "execution_count": null,
   "id": "843278e0",
   "metadata": {
    "tags": [
     "solution"
    ]
   },
   "outputs": [],
   "source": [
    "(target == \" <=50K\").mean()"
   ]
  },
  {
   "cell_type": "markdown",
   "id": "cb0e9933",
   "metadata": {
    "tags": [
     "solution"
    ]
   },
   "source": [
    "In practice, we could have the strategy `\"most_frequent\"` to predict the class\n",
    "that appears the most in the training target."
   ]
  },
  {
   "cell_type": "code",
   "execution_count": null,
   "id": "cfa87f4c",
   "metadata": {
    "tags": [
     "solution"
    ]
   },
   "outputs": [],
   "source": [
    "most_freq_revenue_clf = DummyClassifier(strategy=\"most_frequent\")\n",
    "most_freq_revenue_clf.fit(data_numeric_train, target_train)\n",
    "score = most_freq_revenue_clf.score(data_numeric_test, target_test)\n",
    "print(f\"Accuracy of a model predicting the most frequent class: {score:.3f}\")"
   ]
  },
  {
   "cell_type": "markdown",
   "id": "b6a1826c",
   "metadata": {
    "tags": [
     "solution"
    ]
   },
   "source": [
    "So the `LogisticRegression` accuracy (roughly 81%) seems better than the\n",
    "`DummyClassifier` accuracy (roughly 76%). In a way it is a bit reassuring,\n",
    "using a machine learning model gives you a better performance than always\n",
    "predicting the majority class, i.e. the low income class `\" <=50K\"`."
   ]
  }
 ],
 "metadata": {
  "jupytext": {
   "main_language": "python"
  },
  "kernelspec": {
   "display_name": "Python [conda env:base] *",
   "language": "python",
   "name": "conda-base-py"
  },
  "language_info": {
   "codemirror_mode": {
    "name": "ipython",
    "version": 3
   },
   "file_extension": ".py",
   "mimetype": "text/x-python",
   "name": "python",
   "nbconvert_exporter": "python",
   "pygments_lexer": "ipython3",
   "version": "3.12.7"
  }
 },
 "nbformat": 4,
 "nbformat_minor": 5
}
