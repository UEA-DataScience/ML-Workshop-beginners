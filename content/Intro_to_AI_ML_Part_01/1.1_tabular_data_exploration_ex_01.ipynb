{
 "cells": [
  {
   "cell_type": "markdown",
   "id": "872da773",
   "metadata": {},
   "source": [
    "# 📃 Task 1.0  "
   ]
  },
  {
   "cell_type": "markdown",
   "id": "7224263f",
   "metadata": {},
   "source": [
    "Imagine we are interested in predicting penguins species based on two of their\n",
    "body measurements: culmen length and culmen depth. First we want to do some\n",
    "data exploration to get a feel for the data.\n",
    "\n",
    "What are the features? What is the target?\n",
    "\n",
    "Complete each ask by replacing the ellipsis (...) in each code cell with the correct code."
   ]
  },
  {
   "cell_type": "markdown",
   "id": "1f6001db",
   "metadata": {
    "tags": [
     "solution"
    ]
   },
   "source": [
    "The features are `\"culmen length\"` and `\"culmen depth\"`. The target is the\n",
    "penguin species."
   ]
  },
  {
   "cell_type": "code",
   "execution_count": null,
   "id": "790b1c50-30af-44da-b018-40373a6832f8",
   "metadata": {},
   "outputs": [],
   "source": [
    "# Run this cell once\n",
    "# One way to remove the installation messages is to select 'Kernel - Restart and clear output of all cells'\n",
    "%pip install seaborn"
   ]
  },
  {
   "cell_type": "code",
   "execution_count": null,
   "id": "aad1cc12-419c-4488-9d1c-01a514459573",
   "metadata": {},
   "outputs": [],
   "source": [
    "import numpy as np\n",
    "import pandas as pd"
   ]
  },
  {
   "cell_type": "markdown",
   "id": "2f117b6f",
   "metadata": {},
   "source": [
    "1. The data is located in `../datasets/penguins_classification.csv`, load it with\n",
    "`pandas` into a `DataFrame`. Your code should rad the csv file and assign the outcome to a variable 'penguins'."
   ]
  },
  {
   "cell_type": "code",
   "execution_count": null,
   "id": "d1dc2d7d",
   "metadata": {},
   "outputs": [],
   "source": [
    "# solution\n",
    "... = pd. ... (\"../datasets/penguins_classification.csv\")"
   ]
  },
  {
   "cell_type": "markdown",
   "id": "1ddf3ab5",
   "metadata": {},
   "source": [
    "2. Show the first 5 records of the data (using either .head() or .tail()"
   ]
  },
  {
   "cell_type": "code",
   "execution_count": null,
   "id": "19b225e5",
   "metadata": {},
   "outputs": [],
   "source": [
    "# solution\n",
    "penguins. ... ()"
   ]
  },
  {
   "cell_type": "markdown",
   "id": "e8b51714-269f-4322-aae7-af88ed2cbe04",
   "metadata": {},
   "source": [
    "3. How many features are numerical? How many features are categorical?"
   ]
  },
  {
   "cell_type": "markdown",
   "id": "3280873f",
   "metadata": {
    "tags": [
     "solution"
    ]
   },
   "source": [
    "ANS:\n",
    "Both features, `\"culmen length\"` and `\"culmen depth\"` are .... . There are\n",
    "no .... features in this dataset."
   ]
  },
  {
   "cell_type": "markdown",
   "id": "7c2f9af8",
   "metadata": {},
   "source": [
    "4. What are the different penguins species available in the dataset and how many\n",
    "samples of each species are there? Hint: select the right column and use the\n",
    "[`value_counts`](https://pandas.pydata.org/pandas-docs/stable/reference/api/pandas.Series.value_counts.html)\n",
    "method."
   ]
  },
  {
   "cell_type": "code",
   "execution_count": null,
   "id": "e9a3d0b4",
   "metadata": {},
   "outputs": [],
   "source": [
    "# solution\n",
    "penguins[\"...\"]. ... ()"
   ]
  },
  {
   "cell_type": "markdown",
   "id": "c292ff77",
   "metadata": {},
   "source": [
    "5. Plot histograms for the numerical features"
   ]
  },
  {
   "cell_type": "code",
   "execution_count": null,
   "id": "dd6f509b",
   "metadata": {},
   "outputs": [],
   "source": [
    "# solution\n",
    "_ = penguins. ... (figsize=(8, 4))"
   ]
  },
  {
   "cell_type": "markdown",
   "id": "f7a5083d",
   "metadata": {},
   "source": [
    "6. Show features distribution for each class. Hint: use\n",
    "[`seaborn.pairplot`](https://seaborn.pydata.org/generated/seaborn.pairplot.html)"
   ]
  },
  {
   "cell_type": "code",
   "execution_count": null,
   "id": "0122a407",
   "metadata": {},
   "outputs": [],
   "source": [
    "# solution\n",
    "import seaborn\n",
    "\n",
    "pairplot_figure = seaborn. ... (..., hue=\"Species\")"
   ]
  },
  {
   "cell_type": "markdown",
   "id": "1e8bf375",
   "metadata": {
    "tags": [
     "solution"
    ]
   },
   "source": [
    "7. We observe that the labels on the axis are overlapping. Even if it is not the\n",
    "priority of this notebook, one can tweak them by increasing the height of each\n",
    "subfigure."
   ]
  },
  {
   "cell_type": "code",
   "execution_count": null,
   "id": "c6fb0f3a",
   "metadata": {
    "tags": [
     "solution"
    ]
   },
   "outputs": [],
   "source": [
    "pairplot_figure = ... .pairplot(penguins, hue=\"...\", height=4)"
   ]
  },
  {
   "cell_type": "markdown",
   "id": "733caf4a",
   "metadata": {},
   "source": [
    "8. Looking at these distributions, how hard do you think it would be to classify\n",
    "the penguins only using `\"culmen depth\"` and `\"culmen length\"`?"
   ]
  },
  {
   "cell_type": "markdown",
   "id": "344b3acc",
   "metadata": {
    "tags": [
     "solution"
    ]
   },
   "source": [
    "ANS:  \n",
    "Observations: looking at the previous scatter-plot showing `\"culmen length\"` and `\"culmen\n",
    "depth\"`, the species are reasonably well separated:\n",
    "- low culmen length -> Adelie\n",
    "- low culmen depth -> Gentoo\n",
    "- high culmen depth and high culmen length -> Chinstrap\n",
    "\n",
    "There is some small overlap between the species, so we can expect a\n",
    "statistical model to perform well on this dataset but not perfectly."
   ]
  }
 ],
 "metadata": {
  "jupytext": {
   "main_language": "python"
  },
  "kernelspec": {
   "display_name": "Python [conda env:base] *",
   "language": "python",
   "name": "conda-base-py"
  },
  "language_info": {
   "codemirror_mode": {
    "name": "ipython",
    "version": 3
   },
   "file_extension": ".py",
   "mimetype": "text/x-python",
   "name": "python",
   "nbconvert_exporter": "python",
   "pygments_lexer": "ipython3",
   "version": "3.12.7"
  }
 },
 "nbformat": 4,
 "nbformat_minor": 5
}
