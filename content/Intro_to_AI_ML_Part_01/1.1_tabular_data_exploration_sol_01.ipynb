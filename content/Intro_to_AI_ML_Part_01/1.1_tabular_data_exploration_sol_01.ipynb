{
 "cells": [
  {
   "cell_type": "markdown",
   "id": "872da773",
   "metadata": {},
   "source": [
    "# 📃 Solution 1.0  "
   ]
  },
  {
   "cell_type": "markdown",
   "id": "7224263f",
   "metadata": {},
   "source": [
    "Imagine we are interested in predicting penguins species based on two of their\n",
    "body measurements: culmen length and culmen depth. First we want to do some\n",
    "data exploration to get a feel for the data.\n",
    "\n",
    "What are the features? What is the target?"
   ]
  },
  {
   "cell_type": "markdown",
   "id": "1f6001db",
   "metadata": {
    "tags": [
     "solution"
    ]
   },
   "source": [
    "The features are `\"culmen length\"` and `\"culmen depth\"`. The target is the\n",
    "penguin species."
   ]
  },
  {
   "cell_type": "code",
   "execution_count": null,
   "id": "790b1c50-30af-44da-b018-40373a6832f8",
   "metadata": {},
   "outputs": [],
   "source": [
    "# Run this cell once\n",
    "# One way to remove the installation messages is to select 'Kernel - Restart and clear output of all cells'\n",
    "%pip install seaborn"
   ]
  },
  {
   "cell_type": "code",
   "execution_count": null,
   "id": "aad1cc12-419c-4488-9d1c-01a514459573",
   "metadata": {},
   "outputs": [],
   "source": [
    "import numpy as np\n",
    "import pandas as pd"
   ]
  },
  {
   "cell_type": "markdown",
   "id": "2f117b6f",
   "metadata": {},
   "source": [
    "The data is located in `../datasets/penguins_classification.csv`, load it with\n",
    "`pandas` into a `DataFrame`."
   ]
  },
  {
   "cell_type": "code",
   "execution_count": null,
   "id": "d1dc2d7d",
   "metadata": {},
   "outputs": [],
   "source": [
    "# solution\n",
    "penguins = pd.read_csv(\"../datasets/penguins_classification.csv\")"
   ]
  },
  {
   "cell_type": "markdown",
   "id": "1ddf3ab5",
   "metadata": {},
   "source": [
    "Show a few samples of the data.\n",
    "\n",
    "How many features are numerical? How many features are categorical?"
   ]
  },
  {
   "cell_type": "markdown",
   "id": "3280873f",
   "metadata": {
    "tags": [
     "solution"
    ]
   },
   "source": [
    "Both features, `\"culmen length\"` and `\"culmen depth\"` are numerical. There are\n",
    "no categorical features in this dataset."
   ]
  },
  {
   "cell_type": "code",
   "execution_count": null,
   "id": "19b225e5",
   "metadata": {},
   "outputs": [],
   "source": [
    "# solution\n",
    "penguins.head()"
   ]
  },
  {
   "cell_type": "markdown",
   "id": "7c2f9af8",
   "metadata": {},
   "source": [
    "What are the different penguins species available in the dataset and how many\n",
    "samples of each species are there? Hint: select the right column and use the\n",
    "[`value_counts`](https://pandas.pydata.org/pandas-docs/stable/reference/api/pandas.Series.value_counts.html)\n",
    "method."
   ]
  },
  {
   "cell_type": "code",
   "execution_count": null,
   "id": "e9a3d0b4",
   "metadata": {},
   "outputs": [],
   "source": [
    "# solution\n",
    "penguins[\"Species\"].value_counts()"
   ]
  },
  {
   "cell_type": "markdown",
   "id": "c292ff77",
   "metadata": {},
   "source": [
    "Plot histograms for the numerical features"
   ]
  },
  {
   "cell_type": "code",
   "execution_count": null,
   "id": "dd6f509b",
   "metadata": {},
   "outputs": [],
   "source": [
    "# solution\n",
    "_ = penguins.hist(figsize=(8, 4))"
   ]
  },
  {
   "cell_type": "markdown",
   "id": "f7a5083d",
   "metadata": {},
   "source": [
    "Show features distribution for each class. Hint: use\n",
    "[`seaborn.pairplot`](https://seaborn.pydata.org/generated/seaborn.pairplot.html)"
   ]
  },
  {
   "cell_type": "code",
   "execution_count": null,
   "id": "0122a407",
   "metadata": {},
   "outputs": [],
   "source": [
    "# solution\n",
    "import seaborn\n",
    "\n",
    "pairplot_figure = seaborn.pairplot(penguins, hue=\"Species\")"
   ]
  },
  {
   "cell_type": "markdown",
   "id": "1e8bf375",
   "metadata": {
    "tags": [
     "solution"
    ]
   },
   "source": [
    "We observe that the labels on the axis are overlapping. Even if it is not the\n",
    "priority of this notebook, one can tweak them by increasing the height of each\n",
    "subfigure."
   ]
  },
  {
   "cell_type": "code",
   "execution_count": null,
   "id": "c6fb0f3a",
   "metadata": {
    "tags": [
     "solution"
    ]
   },
   "outputs": [],
   "source": [
    "pairplot_figure = seaborn.pairplot(penguins, hue=\"Species\", height=4)"
   ]
  },
  {
   "cell_type": "markdown",
   "id": "733caf4a",
   "metadata": {},
   "source": [
    "Looking at these distributions, how hard do you think it would be to classify\n",
    "the penguins only using `\"culmen depth\"` and `\"culmen length\"`?"
   ]
  },
  {
   "cell_type": "markdown",
   "id": "344b3acc",
   "metadata": {
    "tags": [
     "solution"
    ]
   },
   "source": [
    "Looking at the previous scatter-plot showing `\"culmen length\"` and `\"culmen\n",
    "depth\"`, the species are reasonably well separated:\n",
    "- low culmen length -> Adelie\n",
    "- low culmen depth -> Gentoo\n",
    "- high culmen depth and high culmen length -> Chinstrap\n",
    "\n",
    "There is some small overlap between the species, so we can expect a\n",
    "statistical model to perform well on this dataset but not perfectly."
   ]
  }
 ],
 "metadata": {
  "jupytext": {
   "main_language": "python"
  },
  "kernelspec": {
   "display_name": "Python [conda env:base] *",
   "language": "python",
   "name": "conda-base-py"
  },
  "language_info": {
   "codemirror_mode": {
    "name": "ipython",
    "version": 3
   },
   "file_extension": ".py",
   "mimetype": "text/x-python",
   "name": "python",
   "nbconvert_exporter": "python",
   "pygments_lexer": "ipython3",
   "version": "3.12.7"
  }
 },
 "nbformat": 4,
 "nbformat_minor": 5
}
